{
 "cells": [
  {
   "cell_type": "code",
   "execution_count": 1,
   "metadata": {},
   "outputs": [],
   "source": [
    "import sqlite3\n",
    "import pandas as pd\n",
    "import numpy as np"
   ]
  },
  {
   "cell_type": "code",
   "execution_count": 2,
   "metadata": {},
   "outputs": [],
   "source": [
    "con = sqlite3.connect('FPA_FOD_20170508.sqlite')\n",
    "cur = con.cursor()"
   ]
  },
  {
   "cell_type": "code",
   "execution_count": 3,
   "metadata": {},
   "outputs": [
    {
     "name": "stdout",
     "output_type": "stream",
     "text": [
      "[('spatial_ref_sys',), ('spatialite_history',), ('sqlite_sequence',), ('geometry_columns',), ('spatial_ref_sys_aux',), ('views_geometry_columns',), ('virts_geometry_columns',), ('geometry_columns_statistics',), ('views_geometry_columns_statistics',), ('virts_geometry_columns_statistics',), ('geometry_columns_field_infos',), ('views_geometry_columns_field_infos',), ('virts_geometry_columns_field_infos',), ('geometry_columns_time',), ('geometry_columns_auth',), ('views_geometry_columns_auth',), ('virts_geometry_columns_auth',), ('sql_statements_log',), ('SpatialIndex',), ('ElementaryGeometries',), ('KNN',), ('Fires',), ('idx_Fires_Shape',), ('idx_Fires_Shape_node',), ('idx_Fires_Shape_rowid',), ('idx_Fires_Shape_parent',), ('NWCG_UnitIDActive_20170109',)]\n"
     ]
    }
   ],
   "source": [
    "sql_query = \"\"\"SELECT name FROM sqlite_master WHERE type='table';\"\"\"\n",
    "\n",
    "cur.execute(sql_query)\n",
    "print(cur.fetchall())"
   ]
  },
  {
   "cell_type": "code",
   "execution_count": 10,
   "metadata": {},
   "outputs": [
    {
     "name": "stdout",
     "output_type": "stream",
     "text": [
      "('pkid', None, None, None, None, None, None)\n",
      "('xmin', None, None, None, None, None, None)\n",
      "('xmax', None, None, None, None, None, None)\n",
      "('ymin', None, None, None, None, None, None)\n",
      "('ymax', None, None, None, None, None, None)\n",
      "(1064078, -166.86940002441406, -166.869384765625, 65.98259735107422, 65.98260498046875)\n"
     ]
    }
   ],
   "source": [
    "data = cur.execute(\"\"\"SELECT * FROM idx_Fires_Shape\"\"\")\n",
    "for i in data.description:\n",
    "    print(i)\n",
    "print(data.fetchone())"
   ]
  },
  {
   "cell_type": "code",
   "execution_count": 11,
   "metadata": {},
   "outputs": [
    {
     "name": "stdout",
     "output_type": "stream",
     "text": [
      "('OBJECTID', None, None, None, None, None, None)\n",
      "('FOD_ID', None, None, None, None, None, None)\n",
      "('FPA_ID', None, None, None, None, None, None)\n",
      "('SOURCE_SYSTEM_TYPE', None, None, None, None, None, None)\n",
      "('SOURCE_SYSTEM', None, None, None, None, None, None)\n",
      "('NWCG_REPORTING_AGENCY', None, None, None, None, None, None)\n",
      "('NWCG_REPORTING_UNIT_ID', None, None, None, None, None, None)\n",
      "('NWCG_REPORTING_UNIT_NAME', None, None, None, None, None, None)\n",
      "('SOURCE_REPORTING_UNIT', None, None, None, None, None, None)\n",
      "('SOURCE_REPORTING_UNIT_NAME', None, None, None, None, None, None)\n",
      "('LOCAL_FIRE_REPORT_ID', None, None, None, None, None, None)\n",
      "('LOCAL_INCIDENT_ID', None, None, None, None, None, None)\n",
      "('FIRE_CODE', None, None, None, None, None, None)\n",
      "('FIRE_NAME', None, None, None, None, None, None)\n",
      "('ICS_209_INCIDENT_NUMBER', None, None, None, None, None, None)\n",
      "('ICS_209_NAME', None, None, None, None, None, None)\n",
      "('MTBS_ID', None, None, None, None, None, None)\n",
      "('MTBS_FIRE_NAME', None, None, None, None, None, None)\n",
      "('COMPLEX_NAME', None, None, None, None, None, None)\n",
      "('FIRE_YEAR', None, None, None, None, None, None)\n",
      "('DISCOVERY_DATE', None, None, None, None, None, None)\n",
      "('DISCOVERY_DOY', None, None, None, None, None, None)\n",
      "('DISCOVERY_TIME', None, None, None, None, None, None)\n",
      "('STAT_CAUSE_CODE', None, None, None, None, None, None)\n",
      "('STAT_CAUSE_DESCR', None, None, None, None, None, None)\n",
      "('CONT_DATE', None, None, None, None, None, None)\n",
      "('CONT_DOY', None, None, None, None, None, None)\n",
      "('CONT_TIME', None, None, None, None, None, None)\n",
      "('FIRE_SIZE', None, None, None, None, None, None)\n",
      "('FIRE_SIZE_CLASS', None, None, None, None, None, None)\n",
      "('LATITUDE', None, None, None, None, None, None)\n",
      "('LONGITUDE', None, None, None, None, None, None)\n",
      "('OWNER_CODE', None, None, None, None, None, None)\n",
      "('OWNER_DESCR', None, None, None, None, None, None)\n",
      "('STATE', None, None, None, None, None, None)\n",
      "('COUNTY', None, None, None, None, None, None)\n",
      "('FIPS_CODE', None, None, None, None, None, None)\n",
      "('FIPS_NAME', None, None, None, None, None, None)\n",
      "('Shape', None, None, None, None, None, None)\n",
      "(1, 1, 'FS-1418826', 'FED', 'FS-FIRESTAT', 'FS', 'USCAPNF', 'Plumas National Forest', '0511', 'Plumas National Forest', '1', 'PNF-47', 'BJ8K', 'FOUNTAIN', None, None, None, None, None, 2005, 2453403.5, 33, '1300', 9.0, 'Miscellaneous', 2453403.5, 33, '1730', 0.1, 'A', 40.03694444, -121.00583333, 5.0, 'USFS', 'CA', '63', '063', 'Plumas', b'\\x00\\x01\\xad\\x10\\x00\\x00\\xe8d\\xc2\\x92_@^\\xc0\\xe0\\xc8l\\x98\\xba\\x04D@\\xe8d\\xc2\\x92_@^\\xc0\\xe0\\xc8l\\x98\\xba\\x04D@|\\x01\\x00\\x00\\x00\\xe8d\\xc2\\x92_@^\\xc0\\xe0\\xc8l\\x98\\xba\\x04D@\\xfe')\n"
     ]
    }
   ],
   "source": [
    "data = cur.execute(\"\"\"SELECT * FROM Fires\"\"\")\n",
    "for i in data.description:\n",
    "    print(i)\n",
    "print(data.fetchone())"
   ]
  },
  {
   "cell_type": "code",
   "execution_count": 4,
   "metadata": {},
   "outputs": [
    {
     "name": "stdout",
     "output_type": "stream",
     "text": [
      "   OBJECTID  FOD_ID      FPA_ID SOURCE_SYSTEM_TYPE SOURCE_SYSTEM  \\\n",
      "0         1       1  FS-1418826                FED   FS-FIRESTAT   \n",
      "1         2       2  FS-1418827                FED   FS-FIRESTAT   \n",
      "2         3       3  FS-1418835                FED   FS-FIRESTAT   \n",
      "3         4       4  FS-1418845                FED   FS-FIRESTAT   \n",
      "4         5       5  FS-1418847                FED   FS-FIRESTAT   \n",
      "\n",
      "  NWCG_REPORTING_AGENCY NWCG_REPORTING_UNIT_ID  NWCG_REPORTING_UNIT_NAME  \\\n",
      "0                    FS                USCAPNF    Plumas National Forest   \n",
      "1                    FS                USCAENF  Eldorado National Forest   \n",
      "2                    FS                USCAENF  Eldorado National Forest   \n",
      "3                    FS                USCAENF  Eldorado National Forest   \n",
      "4                    FS                USCAENF  Eldorado National Forest   \n",
      "\n",
      "  SOURCE_REPORTING_UNIT SOURCE_REPORTING_UNIT_NAME  ... FIRE_SIZE_CLASS  \\\n",
      "0                  0511     Plumas National Forest  ...               A   \n",
      "1                  0503   Eldorado National Forest  ...               A   \n",
      "2                  0503   Eldorado National Forest  ...               A   \n",
      "3                  0503   Eldorado National Forest  ...               A   \n",
      "4                  0503   Eldorado National Forest  ...               A   \n",
      "\n",
      "    LATITUDE   LONGITUDE OWNER_CODE       OWNER_DESCR STATE COUNTY FIPS_CODE  \\\n",
      "0  40.036944 -121.005833        5.0              USFS    CA     63       063   \n",
      "1  38.933056 -120.404444        5.0              USFS    CA     61       061   \n",
      "2  38.984167 -120.735556       13.0  STATE OR PRIVATE    CA     17       017   \n",
      "3  38.559167 -119.913333        5.0              USFS    CA      3       003   \n",
      "4  38.559167 -119.933056        5.0              USFS    CA      3       003   \n",
      "\n",
      "   FIPS_NAME                                              Shape  \n",
      "0     Plumas  b'\\x00\\x01\\xad\\x10\\x00\\x00\\xe8d\\xc2\\x92_@^\\xc0...  \n",
      "1     Placer  b'\\x00\\x01\\xad\\x10\\x00\\x00T\\xb6\\xeej\\xe2\\x19^\\...  \n",
      "2  El Dorado  b'\\x00\\x01\\xad\\x10\\x00\\x00\\xd0\\xa5\\xa0W\\x13/^\\...  \n",
      "3     Alpine  b'\\x00\\x01\\xad\\x10\\x00\\x00\\x94\\xac\\xa3\\rt\\xfa]...  \n",
      "4     Alpine  b'\\x00\\x01\\xad\\x10\\x00\\x00@\\xe3\\xaa.\\xb7\\xfb]\\...  \n",
      "\n",
      "[5 rows x 39 columns]\n"
     ]
    }
   ],
   "source": [
    "df = pd.read_sql_query(\"SELECT * FROM Fires\", con)\n",
    "print(df.head())"
   ]
  },
  {
   "cell_type": "code",
   "execution_count": 5,
   "metadata": {},
   "outputs": [],
   "source": []
  },
  {
   "cell_type": "code",
   "execution_count": null,
   "metadata": {},
   "outputs": [],
   "source": []
  }
 ],
 "metadata": {
  "kernelspec": {
   "display_name": "myenv",
   "language": "python",
   "name": "python3"
  },
  "language_info": {
   "codemirror_mode": {
    "name": "ipython",
    "version": 3
   },
   "file_extension": ".py",
   "mimetype": "text/x-python",
   "name": "python",
   "nbconvert_exporter": "python",
   "pygments_lexer": "ipython3",
   "version": "3.9.18"
  }
 },
 "nbformat": 4,
 "nbformat_minor": 2
}
